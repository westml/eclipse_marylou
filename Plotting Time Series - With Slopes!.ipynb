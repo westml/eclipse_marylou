{
 "cells": [
  {
   "cell_type": "code",
   "execution_count": null,
   "metadata": {},
   "outputs": [],
   "source": [
    "%pylab inline\n",
    "import pandas as pd\n",
    "import datetime\n",
    "import seaborn as sns"
   ]
  },
  {
   "cell_type": "code",
   "execution_count": null,
   "metadata": {},
   "outputs": [],
   "source": [
    "fname = \"north_america_rbn_filtered.csv.bz2\""
   ]
  },
  {
   "cell_type": "code",
   "execution_count": null,
   "metadata": {},
   "outputs": [],
   "source": [
    "fname"
   ]
  },
  {
   "cell_type": "code",
   "execution_count": null,
   "metadata": {},
   "outputs": [],
   "source": [
    "df_0 = pd.read_csv(fname,parse_dates=['datetime'])"
   ]
  },
  {
   "cell_type": "code",
   "execution_count": null,
   "metadata": {},
   "outputs": [],
   "source": [
    "df_0.keys()"
   ]
  },
  {
   "cell_type": "code",
   "execution_count": null,
   "metadata": {},
   "outputs": [],
   "source": [
    "keys=[]\n",
    "keys.append('datetime')\n",
    "keys.append('frequency')\n",
    "keys.append('band')\n",
    "keys.append('R_gc')\n",
    "keys.append('azm')\n",
    "keys.append('call_0')\n",
    "keys.append('lat_0')\n",
    "keys.append('lon_0')\n",
    "keys.append('call_1')\n",
    "keys.append('lat_1')\n",
    "keys.append('lon_1')\n",
    "keys.append('lat_mid')\n",
    "keys.append('lon_mid')\n",
    "keys.append('srpt_0')\n",
    "#keys.append('obs_mid_300km')\n",
    "df=df_0[keys].copy()"
   ]
  },
  {
   "cell_type": "code",
   "execution_count": null,
   "metadata": {},
   "outputs": [],
   "source": [
    "def ut_hr(dt):\n",
    "    result = dt.hour + dt.minute/60. + dt.second/3600.\n",
    "    return result\n",
    "df.loc[:,'ut_hr'] = df.datetime.map(ut_hr)"
   ]
  },
  {
   "cell_type": "code",
   "execution_count": null,
   "metadata": {},
   "outputs": [],
   "source": []
  },
  {
   "cell_type": "code",
   "execution_count": null,
   "metadata": {},
   "outputs": [],
   "source": [
    "len(df)"
   ]
  },
  {
   "cell_type": "code",
   "execution_count": null,
   "metadata": {},
   "outputs": [],
   "source": [
    "df.describe()"
   ]
  },
  {
   "cell_type": "code",
   "execution_count": null,
   "metadata": {},
   "outputs": [],
   "source": [
    "tf=df['R_gc']>16000"
   ]
  },
  {
   "cell_type": "code",
   "execution_count": null,
   "metadata": {},
   "outputs": [],
   "source": [
    "df[tf]"
   ]
  },
  {
   "cell_type": "code",
   "execution_count": null,
   "metadata": {},
   "outputs": [],
   "source": [
    "dft=df.copy()\n",
    "tf=dft['call_0']=='WE9V'\n",
    "dft=dft[tf]\n",
    "\n",
    "tf=dft['call_1']=='AA2MF'\n",
    "dft=dft[tf]\n",
    "\n",
    "\n",
    "tf=dft['band']==14\n",
    "dft=dft[tf]"
   ]
  },
  {
   "cell_type": "code",
   "execution_count": null,
   "metadata": {},
   "outputs": [],
   "source": [
    "dft"
   ]
  },
  {
   "cell_type": "code",
   "execution_count": null,
   "metadata": {},
   "outputs": [],
   "source": [
    "xx=dft['datetime']\n",
    "yy=dft['srpt_0']"
   ]
  },
  {
   "cell_type": "code",
   "execution_count": null,
   "metadata": {},
   "outputs": [],
   "source": [
    "plt.figure(figsize=(10,8))\n",
    "plt.plot(xx,yy)\n",
    "plt.xlabel('Time(UT)')\n",
    "plt.ylabel('SNR')\n",
    "plt.title('WE9V from AA2MF at 14 Mhz')\n",
    "plt.grid()\n",
    "plt.show()"
   ]
  },
  {
   "cell_type": "code",
   "execution_count": null,
   "metadata": {},
   "outputs": [],
   "source": [
    "dt_0=datetime.datetime(2017,8,21,18)\n",
    "dt_1=datetime.datetime(2017,8,21,20)\n",
    "plt.figure(figsize=(10,8))\n",
    "plt.plot(xx,yy,marker='o')\n",
    "plt.xlim(dt_0,dt_1)\n",
    "plt.xlabel('Time(UT)')\n",
    "plt.ylabel('SNR')\n",
    "plt.title('WE9V from AA2MF at 14 Mhz')\n",
    "plt.grid()\n",
    "plt.show()"
   ]
  },
  {
   "cell_type": "code",
   "execution_count": null,
   "metadata": {},
   "outputs": [],
   "source": [
    "dft_1 = dft.copy()\n",
    "dt_0=datetime.datetime(2017,8,21,18,15)\n",
    "dt_1=datetime.datetime(2017,8,21,18,25)\n",
    "\n",
    "tf = np.logical_and(dft_1.datetime >= dt_0, dft_1.datetime < dt_1)\n",
    "dft_1 = dft_1[tf]\n",
    "\n",
    "dft_1 = dft_1[ ['datetime','ut_hr','srpt_0'] ]"
   ]
  },
  {
   "cell_type": "code",
   "execution_count": null,
   "metadata": {},
   "outputs": [],
   "source": [
    "xx=dft_1['datetime']\n",
    "yy=dft_1['srpt_0']\n",
    "ut=dft_1['ut_hr']\n",
    "\n",
    "fit_0_times = (datetime.datetime(2017,8,21,18,17,45),datetime.datetime(2017,8,21,18,19,10))\n",
    "fit_0_tf    = np.logical_and(dft_1.datetime >= fit_0_times[0], dft_1.datetime < fit_0_times[1])\n",
    "fit_0_df    = dft_1[fit_0_tf]\n",
    "fit_0_coefs = np.polyfit(fit_0_df.ut_hr,fit_0_df.srpt_0,1)\n",
    "fit_0_xx    = fit_0_df.ut_hr\n",
    "fit_0_yy    = fit_0_coefs[0]*fit_0_df.ut_hr+fit_0_coefs[1]\n",
    "fit_0_label = 'Slope 0: {!s}'.format(fit_0_coefs[0])\n",
    "\n",
    "fit_1_times = (datetime.datetime(2017,8,21,18,19),datetime.datetime(2017,8,21,18,22,30))\n",
    "fit_1_tf    = np.logical_and(dft_1.datetime >= fit_1_times[0], dft_1.datetime < fit_1_times[1])\n",
    "fit_1_df    = dft_1[fit_1_tf]\n",
    "fit_1_coefs = np.polyfit(fit_1_df.ut_hr,fit_1_df.srpt_0,1)\n",
    "fit_1_xx    = fit_1_df.ut_hr\n",
    "fit_1_yy    = fit_1_coefs[0]*fit_1_df.ut_hr+fit_1_coefs[1]\n",
    "fit_1_label = 'Slope 1: {!s}'.format(fit_1_coefs[0])\n",
    "\n",
    "plt.figure(figsize=(10,8))\n",
    "plt.plot(xx,yy,marker='o')\n",
    "plt.plot(fit_0_df.datetime,fit_0_yy,ls='--',marker='o',label=fit_0_label)\n",
    "plt.plot(fit_1_df.datetime,fit_1_yy,ls='--',marker='o',label=fit_1_label)\n",
    "\n",
    "\n",
    "#plt.xlim(ut_hr(dt_0),ut_hr(dt_1))\n",
    "plt.xlim(dt_0,dt_1)\n",
    "\n",
    "plt.xlabel('Time(UT)')\n",
    "plt.ylabel('SNR')\n",
    "plt.title('WE9V from AA2MF at 14 Mhz')\n",
    "plt.legend(loc='upper right')\n",
    "plt.grid()\n",
    "plt.show()\n"
   ]
  }
 ],
 "metadata": {
  "kernelspec": {
   "display_name": "Python 3",
   "language": "python",
   "name": "python3"
  },
  "language_info": {
   "codemirror_mode": {
    "name": "ipython",
    "version": 3
   },
   "file_extension": ".py",
   "mimetype": "text/x-python",
   "name": "python",
   "nbconvert_exporter": "python",
   "pygments_lexer": "ipython3",
   "version": "3.6.5"
  }
 },
 "nbformat": 4,
 "nbformat_minor": 2
}
